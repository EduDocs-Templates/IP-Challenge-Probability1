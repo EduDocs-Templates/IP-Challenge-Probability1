{
 "cells": [
  {
   "cell_type": "markdown",
   "metadata": {
    "id": "9T1syz7nCQ0Z"
   },
   "source": [
    "# Machine Problem 1\n",
    "\n",
    "This [Python](https://www.python.org) challenge uses [numpy](https://numpy.org/) and its `random` module to generate pseudo random numbers.\n",
    "Remember to import modules whenever needed."
   ]
  },
  {
   "cell_type": "code",
   "execution_count": null,
   "metadata": {
    "id": "FouOFmiiCQ0b"
   },
   "outputs": [],
   "source": [
    "import numpy as np\n",
    "from numpy.random import randint\n",
    "from numpy.random import binomial\n",
    "import pandas as pd\n",
    "import matplotlib.pyplot as plt"
   ]
  },
  {
   "cell_type": "markdown",
   "metadata": {
    "id": "YIb46IeGCQ0c"
   },
   "source": [
    "We begin by writing a method to generate a sequence of integers.\n",
    "Each element should be between one and `max_int`, and the total number of elements in the sequence should be `seq_length`."
   ]
  },
  {
   "cell_type": "code",
   "execution_count": null,
   "metadata": {
    "id": "oR72r-Z_CQ0c"
   },
   "outputs": [],
   "source": [
    "def bit_seq(seq_length=1):\n",
    "    # Return random bits\n",
    "    #\n",
    "    outcome = binomial(1, 0.5, seq_length)\n",
    "    return outcome\n",
    "\n",
    "def int_seq(max_int=2,seq_length=1):\n",
    "    # Return random integers between 1 and max_int (inclusive)\n",
    "    #\n",
    "    outcome = randint(1, max_int+1, seq_length)\n",
    "    return outcome"
   ]
  },
  {
   "cell_type": "markdown",
   "metadata": {
    "id": "0pvULhGdCQ0d"
   },
   "source": [
    "As an example, we can create a numerical simulation that calls the `bit_seq` method in a loop 1000 times.\n",
    "We can then plot the empirical distribution correspoding to the outcome sequence."
   ]
  },
  {
   "cell_type": "code",
   "execution_count": null,
   "metadata": {
    "colab": {
     "base_uri": "https://localhost:8080/",
     "height": 282
    },
    "id": "bJtfgfXbQx5h",
    "outputId": "cfcd97e6-00eb-41fb-96ef-649538653678"
   },
   "outputs": [],
   "source": [
    "seq_length = 1000\n",
    "bits = bit_seq(seq_length)\n",
    "epmf = np.bincount(bits) / seq_length\n",
    "plt.bar([0, 1], epmf)\n",
    "plt.show"
   ]
  },
  {
   "cell_type": "markdown",
   "metadata": {
    "id": "6vcigBQSWiJj"
   },
   "source": [
    "We can also create a similar numerical simulation that calls the `int_seq` method in a loop 1000 times. Below, we plot the empirical distribution correspoding to the outcome sequence for `max_int = 5`."
   ]
  },
  {
   "cell_type": "code",
   "execution_count": null,
   "metadata": {
    "colab": {
     "base_uri": "https://localhost:8080/",
     "height": 282
    },
    "id": "0s9m1mZxRsct",
    "outputId": "9a4624b8-d925-4993-915d-7b98202edf0e"
   },
   "outputs": [],
   "source": [
    "max_int = 5\n",
    "seq_length = 1000\n",
    "ints = int_seq(max_int,seq_length)\n",
    "epmf = np.bincount(ints,minlength=max_int+1) / seq_length\n",
    "plt.bar(range(1,max_int+1),epmf[1:])\n",
    "plt.show"
   ]
  },
  {
   "cell_type": "markdown",
   "metadata": {
    "id": "YR-hmdIb_EuA"
   },
   "source": [
    "Go back above and change the parameters.\n",
    "In particular, see what happens when parameter `seq_length` is equal to 1, 10, 100, 1000, and 10000.\n",
    "Likewise, explore the impact of parameter `max_int` on the histogram above."
   ]
  },
  {
   "cell_type": "markdown",
   "metadata": {
    "id": "P_hZdNUBMQlp"
   },
   "source": [
    "## Sample Mean and Sample Variance\n",
    "\n",
    "In the current context, the sample mean is the average value (or mean value) of `int_seq`,\n",
    "$$\\overline{x} = \\frac{1}{\\texttt{seq_length}} \\sum_{\\texttt{idx}=1}^{\\texttt{seq_length}} \\texttt{int_seq[idx]}.$$\n",
    "The sample variance is given by\n",
    "$$\\frac{1}{\\texttt{seq_length}-1} \\sum_{\\texttt{idx}=1}^{\\texttt{seq_length}} \\left( \\texttt{int_seq[idx]} - \\overline{x} \\right)^2.$$\n",
    "\n",
    "Set parameter `max_int = 10`.\n",
    "Write code to compute the sample mean and sample variance for parameter `seq_length` equal to 1, 10, 100, 1000, 10000."
   ]
  },
  {
   "cell_type": "code",
   "execution_count": null,
   "metadata": {
    "colab": {
     "base_uri": "https://localhost:8080/"
    },
    "id": "c-rou45VCQ0d",
    "outputId": "aba33419-7125-4bae-dce9-de81be87ec7a"
   },
   "outputs": [],
   "source": [
    "max_int = 10\n",
    "\n",
    "sample_means = []\n",
    "sample_variances = []\n",
    "\n",
    "seq_lengths = [1, 10, 100, 1000, 10000]\n",
    "num_lengths = len(seq_lengths)\n",
    "\n",
    "for idy in range(num_lengths):\n",
    "  print(seq_lengths[idy])\n",
    "  # EDIT\n",
    "  #\n",
    "  sample_means.append(0)\n",
    "  sample_variances.append(0)\n",
    "\n",
    "print(sample_means)\n",
    "print(sample_variances)"
   ]
  },
  {
   "cell_type": "markdown",
   "metadata": {
    "id": "7f6BVoU_CQ0e"
   },
   "source": [
    "Turn the example above into a `csv` file that contains your results."
   ]
  },
  {
   "cell_type": "code",
   "execution_count": null,
   "metadata": {
    "colab": {
     "base_uri": "https://localhost:8080/"
    },
    "id": "Bl8vtK4XTSEP",
    "outputId": "d79cd8be-1b6a-4ca1-a978-f0edb0819fb2"
   },
   "outputs": [],
   "source": [
    "mydata = {'seq_length': seq_lengths, 'sample_mean': sample_means, 'sample_variance': sample_variances}\n",
    "df = pd.DataFrame(data=mydata)\n",
    "df.to_csv(\"1challenge.csv\")\n",
    "print(df)"
   ]
  }
 ],
 "metadata": {
  "colab": {
   "name": "1challenge.ipynb",
   "provenance": []
  },
  "kernelspec": {
   "display_name": "Python 3",
   "language": "python",
   "name": "python3"
  },
  "language_info": {
   "codemirror_mode": {
    "name": "ipython",
    "version": 3
   },
   "file_extension": ".py",
   "mimetype": "text/x-python",
   "name": "python",
   "nbconvert_exporter": "python",
   "pygments_lexer": "ipython3",
   "version": "3.7.9"
  }
 },
 "nbformat": 4,
 "nbformat_minor": 1
}
