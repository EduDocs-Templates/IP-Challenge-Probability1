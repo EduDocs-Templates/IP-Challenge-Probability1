{
 "cells": [
  {
   "cell_type": "markdown",
   "id": "corrected-athletics",
   "metadata": {},
   "source": [
    "# Machine Problem 1 (Solution)"
   ]
  },
  {
   "cell_type": "code",
   "execution_count": null,
   "id": "static-plant",
   "metadata": {},
   "outputs": [],
   "source": [
    "import numpy as np\n",
    "from numpy.random import randint\n",
    "from numpy.random import binomial\n",
    "import pandas as pd\n",
    "import matplotlib.pyplot as plt"
   ]
  },
  {
   "cell_type": "code",
   "execution_count": null,
   "id": "nominated-monthly",
   "metadata": {},
   "outputs": [],
   "source": [
    "submission_df = pd.read_csv('1challenge.csv', index_col=0)\n",
    "sample_means = submission_df['sample_mean'].to_numpy()\n",
    "sample_variances = submission_df['sample_variance'].to_numpy()\n",
    "print('Sample means: ' + str(sample_means))\n",
    "print('Sample Variances: ' + str(sample_variances))"
   ]
  },
  {
   "cell_type": "code",
   "execution_count": null,
   "id": "transparent-tokyo",
   "metadata": {},
   "outputs": [],
   "source": [
    "max_int = 10\n",
    "\n",
    "means = []\n",
    "variances = []\n",
    "\n",
    "seq_lengths = [1, 10, 100, 1000, 10000]\n",
    "num_lengths = len(seq_lengths)\n",
    "\n",
    "for idy in range(num_lengths):\n",
    "  means.append((1 + max_int)/2)\n",
    "  variances.append((max_int**2 - 1)/(12*seq_lengths[idy]))\n",
    "\n",
    "print('Means: ' + str(means))\n",
    "print('Variances: ' + str(variances))"
   ]
  },
  {
   "cell_type": "code",
   "execution_count": null,
   "id": "designed-omega",
   "metadata": {},
   "outputs": [],
   "source": [
    "from sklearn.metrics import mean_squared_error\n",
    "print('Mean squared error (mean): ' + str(mean_squared_error(sample_means,means)))\n",
    "print('Mean squared error (variance): ' + str(mean_squared_error(sample_variances,variances)))"
   ]
  }
 ],
 "metadata": {
  "kernelspec": {
   "display_name": "Python 3",
   "language": "python",
   "name": "python3"
  },
  "language_info": {
   "codemirror_mode": {
    "name": "ipython",
    "version": 3
   },
   "file_extension": ".py",
   "mimetype": "text/x-python",
   "name": "python",
   "nbconvert_exporter": "python",
   "pygments_lexer": "ipython3",
   "version": "3.7.9"
  }
 },
 "nbformat": 4,
 "nbformat_minor": 5
}
